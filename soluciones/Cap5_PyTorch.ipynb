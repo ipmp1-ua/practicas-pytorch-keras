{
  "cells": [
    {
      "attachments": {},
      "cell_type": "markdown",
      "metadata": {
        "id": "7IqkrXGUuDer"
      },
      "source": [
        "# **Capítulo 5: Redes neuronales convolucionales**\n",
        "\n",
        "## Clasificación de dígitos manuscritos usando la base de datos MNIST"
      ]
    },
    {
      "attachments": {},
      "cell_type": "markdown",
      "metadata": {
        "id": "TVfLZrset_9M"
      },
      "source": [
        "Comprobación de acceso a GPU"
      ]
    },
    {
      "cell_type": "code",
      "execution_count": null,
      "metadata": {
        "colab": {
          "base_uri": "https://localhost:8080/"
        },
        "id": "9EPlnjn4jzMs",
        "outputId": "01efed27-9c79-42ba-9836-23c1e4548d5a"
      },
      "outputs": [],
      "source": [
        "import torch\n",
        "\n",
        "# Si disponemos de GPU, la usamos\n",
        "dispositivo = torch.device('cuda' if torch.cuda.is_available() else 'cpu')"
      ]
    },
    {
      "cell_type": "markdown",
      "metadata": {},
      "source": [
        "Carga y preprocesado de datos"
      ]
    },
    {
      "cell_type": "code",
      "execution_count": 2,
      "metadata": {
        "id": "PTJefuZVkCOV"
      },
      "outputs": [],
      "source": [
        "import torchvision.datasets as datasets\n",
        "import torchvision.transforms as transforms\n",
        "\n",
        "tam_batch = 64\n",
        "\n",
        "# Datos de entrenamiento\n",
        "train_dataset = datasets.MNIST(\n",
        "    root='./datos', # Ruta donde se almacenarán los datos descargados\n",
        "    train=True,     # Datos de entrenamiento\n",
        "    transform=transforms.ToTensor(), # Conversión más normalización\n",
        "    download=True   # Se descargan a la carpeta indicada en root\n",
        ")\n",
        "train_loader = torch.utils.data.DataLoader(\n",
        "    train_dataset,  # Dataset sobre el que iterar\n",
        "    batch_size=tam_batch,\n",
        "    shuffle=True    # Se mezclan los datos en cada época de entrenamiento\n",
        ")\n",
        "\n",
        "# Datos de test\n",
        "test_dataset = datasets.MNIST(\n",
        "    root='./datos', # Misma ruta que los datos de entrenamiento\n",
        "    train=False,    # Datos de test\n",
        "    transform=transforms.ToTensor() # Conversión más normalización\n",
        ")\n",
        "test_loader = torch.utils.data.DataLoader(\n",
        "    test_dataset,\n",
        "    batch_size=tam_batch,\n",
        "    shuffle=False   # Los datos se evalúan siempre en el mismo orden\n",
        ")"
      ]
    },
    {
      "cell_type": "markdown",
      "metadata": {},
      "source": [
        "Visualización del aspecto de los datos"
      ]
    },
    {
      "cell_type": "code",
      "execution_count": 3,
      "metadata": {
        "colab": {
          "base_uri": "https://localhost:8080/",
          "height": 465
        },
        "id": "Vsm6qJJpkR4U",
        "outputId": "ce88f666-4d49-4d6f-bebe-7fa2d256f893"
      },
      "outputs": [
        {
          "name": "stdout",
          "output_type": "stream",
          "text": [
            "Tamaño del conjunto de entrenamiento: 60000\n",
            "Tamaño del conjunto de test: 10000\n",
            "Tamaño de las imágenes: torch.Size([1, 28, 28])\n"
          ]
        },
        {
          "data": {
            "image/png": "[encoded data removed]",
            "text/plain": [
              "<Figure size 1000x1000 with 2 Axes>"
            ]
          },
          "metadata": {},
          "output_type": "display_data"
        }
      ],
      "source": [
        "import matplotlib.pyplot as plt\n",
        "import numpy as np\n",
        "\n",
        "# Dimensiones de los conjuntos de datos\n",
        "print(f'Tamaño del conjunto de entrenamiento: {len(train_dataset.data)}')\n",
        "print(f'Tamaño del conjunto de test: {len(test_dataset.data)}')\n",
        "\n",
        "# Obtenemos un lote o batch de imágenes de entrenamiento\n",
        "imagenes, etiquetas = next(iter(train_loader))\n",
        "print(f'Tamaño de las imágenes: {imagenes.shape[1:]}')\n",
        "\n",
        "# Visualizamos las imágenes y etiquetas de un batch de entrenamiento\n",
        "fig, axs = plt.subplots(1, 2, figsize=(10, 10))\n",
        "for i in range(2):\n",
        "    axs[i].imshow(np.squeeze(imagenes[i]), cmap='gray')\n",
        "    axs[i].set_title(f'Etiqueta: {etiquetas[i]}')\n",
        "    axs[i].axis('off')\n",
        "plt.show()"
      ]
    },
    {
      "cell_type": "markdown",
      "metadata": {},
      "source": [
        "Implementación de la CNN a usar"
      ]
    },
    {
      "cell_type": "code",
      "execution_count": 4,
      "metadata": {
        "id": "2AB7AXlukdx_"
      },
      "outputs": [
        {
          "data": {
            "text/plain": [
              "CNN(\n",
              "  (conv1): Conv2d(1, 6, kernel_size=(5, 5), stride=(1, 1), padding=same)\n",
              "  (pool1): MaxPool2d(kernel_size=2, stride=2, padding=0, dilation=1, ceil_mode=False)\n",
              "  (conv2): Conv2d(6, 16, kernel_size=(5, 5), stride=(1, 1), padding=same)\n",
              "  (pool2): MaxPool2d(kernel_size=2, stride=2, padding=0, dilation=1, ceil_mode=False)\n",
              "  (flatten): Flatten(start_dim=1, end_dim=-1)\n",
              "  (lin1): Linear(in_features=784, out_features=120, bias=True)\n",
              "  (lin2): Linear(in_features=120, out_features=84, bias=True)\n",
              "  (lin3): Linear(in_features=84, out_features=10, bias=True)\n",
              "  (relu): ReLU()\n",
              ")"
            ]
          },
          "execution_count": 4,
          "metadata": {},
          "output_type": "execute_result"
        }
      ],
      "source": [
        "import torch.nn as nn\n",
        "\n",
        "class CNN(nn.Module):\n",
        "    def __init__(self):\n",
        "        super(CNN, self).__init__()\n",
        "\n",
        "        # Capas\n",
        "        # 1) Bloque extractor de características\n",
        "        self.conv1 = nn.Conv2d(1, 6, kernel_size=5, padding='same')\n",
        "        self.pool1 = nn.MaxPool2d(kernel_size=2)\n",
        "        self.conv2 = nn.Conv2d(6, 16, kernel_size=5, padding='same')\n",
        "        self.pool2 = nn.MaxPool2d(kernel_size=2)\n",
        "        # 2) Bloque clasificador de características\n",
        "        self.flatten = nn.Flatten()\n",
        "        self.lin1 = nn.Linear(16 * 7 * 7, 120)\n",
        "        self.lin2 = nn.Linear(120, 84)\n",
        "        self.lin3 = nn.Linear(84, 10)\n",
        "\n",
        "        # Activaciones\n",
        "        self.relu = nn.ReLU()\n",
        "\n",
        "    def forward(self, x):\n",
        "        x = self.relu(self.conv1(x))\n",
        "        x = self.pool1(x)\n",
        "        x = self.relu(self.conv2(x))\n",
        "        x = self.pool2(x)\n",
        "        x = self.flatten(x)\n",
        "        x = self.relu(self.lin1(x))\n",
        "        x = self.relu(self.lin2(x))\n",
        "        y = self.lin3(x)\n",
        "        return y\n",
        "\n",
        "modelo = CNN()\n",
        "# Si es posible, movemos el modelo a la GPU\n",
        "modelo.to(dispositivo)"
      ]
    },
    {
      "cell_type": "markdown",
      "metadata": {},
      "source": [
        "Implementación de la función de entrenamiento"
      ]
    },
    {
      "cell_type": "code",
      "execution_count": 5,
      "metadata": {
        "id": "K7DQKH5alodP"
      },
      "outputs": [],
      "source": [
        "def epoca_train(\n",
        "        modelo, train_loader, optimizador, func_perdida, dispositivo):\n",
        "    epoca_perdidas = []\n",
        "    # Iteramos sobre los datos de entrenamiento\n",
        "    for i, (imagenes, etiquetas) in enumerate(train_loader):\n",
        "        # Si es posible, transferimos los datos a la GPU\n",
        "        imagenes = imagenes.to(dispositivo)\n",
        "        etiquetas = etiquetas.to(dispositivo)\n",
        "        # Ponemos los gradientes a cero\n",
        "        optimizador.zero_grad()\n",
        "        # Calculamos las salidas de la red neuronal\n",
        "        # para las imágenes de entrada\n",
        "        salidas = modelo(imagenes)\n",
        "        # Calculamos la pérdida de la red neuronal\n",
        "        perdida = func_perdida(salidas, etiquetas)\n",
        "        # Calculamos los gradientes de la pérdida\n",
        "        # respecto a los parámetros de la red neuronal\n",
        "        perdida.backward()\n",
        "        # Actualizamos los parámetros de la red neuronal\n",
        "        # usando el algoritmo de optimización\n",
        "        optimizador.step()\n",
        "        # Añadimos a la lista de pérdidas la pérdida actual\n",
        "        epoca_perdidas.append(perdida.item())\n",
        "    # Calculamos la media de las pérdidas para una época\n",
        "    return sum(epoca_perdidas) / len(epoca_perdidas)"
      ]
    },
    {
      "cell_type": "markdown",
      "metadata": {},
      "source": [
        "Implementación de la función de test"
      ]
    },
    {
      "cell_type": "code",
      "execution_count": null,
      "metadata": {},
      "outputs": [],
      "source": [
        "def epoca_test(modelo, test_loader, dispositivo):\n",
        "    # Establecemos la red neuronal en modo de evaluación\n",
        "    modelo.eval()\n",
        "    # Desactivamos el cálculo de gradientes\n",
        "    with torch.no_grad():\n",
        "        correcto = 0\n",
        "        total = 0\n",
        "        # Iteramos sobre los datos de test\n",
        "        for imagenes, etiquetas in test_loader:\n",
        "            # Si es posible, transferimos los datos a la GPU\n",
        "            imagenes = imagenes.to(dispositivo)\n",
        "            etiquetas = etiquetas.to(dispositivo)\n",
        "            # Calculamos las salidas de la red neuronal\n",
        "            # para las imágenes de entrada\n",
        "            salidas = modelo(imagenes)\n",
        "            # Calculamos las probabilidades de las clases\n",
        "            salidas = salidas.softmax(dim=1)\n",
        "            # Obtenemos la clase con mayor probabilidad\n",
        "            prediccion = salidas.argmax(dim=1)\n",
        "            # Incrementamos el contador de imágenes procesadas\n",
        "            total += etiquetas.size(0)\n",
        "            # Incrementamos el contador de imágenes\n",
        "            # clasificadas correctamente\n",
        "            correcto += (prediccion == etiquetas).sum().item()\n",
        "        # Calculamos la exactitud\n",
        "        exactitud = 100 * correcto / total\n",
        "    # Establecemos la red neuronal en modo entrenamiento\n",
        "    modelo.train()\n",
        "    return exactitud"
      ]
    },
    {
      "cell_type": "markdown",
      "metadata": {},
      "source": [
        "Entrenamiento y test de la CNN con el conjunto de datos MNIST"
      ]
    },
    {
      "cell_type": "code",
      "execution_count": 6,
      "metadata": {
        "id": "sSw0DqhHnpqL",
        "outputId": "3f867145-1724-4530-87f0-881db45d5a02"
      },
      "outputs": [
        {
          "name": "stdout",
          "output_type": "stream",
          "text": [
            "Época 1/15,    pérdida=0.2914,    exactitud_train=97.31%,    exactitud_test=97.41%\n",
            "Época 2/15,    pérdida=0.0799,    exactitud_train=98.21%,    exactitud_test=98.17%\n",
            "Época 3/15,    pérdida=0.0561,    exactitud_train=98.06%,    exactitud_test=98.06%\n",
            "Época 4/15,    pérdida=0.0445,    exactitud_train=98.71%,    exactitud_test=98.55%\n",
            "Época 5/15,    pérdida=0.0365,    exactitud_train=99.08%,    exactitud_test=98.70%\n",
            "Época 6/15,    pérdida=0.0299,    exactitud_train=99.26%,    exactitud_test=98.93%\n",
            "Época 7/15,    pérdida=0.0256,    exactitud_train=99.34%,    exactitud_test=98.76%\n",
            "Época 8/15,    pérdida=0.0235,    exactitud_train=99.33%,    exactitud_test=98.81%\n",
            "Época 9/15,    pérdida=0.0177,    exactitud_train=99.44%,    exactitud_test=98.89%\n",
            "Época 10/15,    pérdida=0.0165,    exactitud_train=99.39%,    exactitud_test=98.81%\n",
            "Época 11/15,    pérdida=0.0140,    exactitud_train=99.45%,    exactitud_test=98.76%\n",
            "Época 12/15,    pérdida=0.0131,    exactitud_train=99.72%,    exactitud_test=99.01%\n",
            "Época 13/15,    pérdida=0.0117,    exactitud_train=99.77%,    exactitud_test=99.02%\n",
            "Época 14/15,    pérdida=0.0110,    exactitud_train=99.53%,    exactitud_test=98.77%\n",
            "Época 15/15,    pérdida=0.0091,    exactitud_train=99.84%,    exactitud_test=98.99%\n",
            "Fin del entrenamiento.\n"
          ]
        }
      ],
      "source": [
        "import torch.optim as optim\n",
        "\n",
        "# Learning rate de 0.001 por defecto\n",
        "optimizador = optim.Adam(modelo.parameters())\n",
        "# Función de pérdida de entropía cruzada\n",
        "func_perdida = nn.CrossEntropyLoss()\n",
        "\n",
        "# Histórico de valores de exactitud de entrenamiento\n",
        "train_accs = []\n",
        "# Histórico de valores de exactitud de test\n",
        "test_accs = []\n",
        "# Definimos el número de épocas de entrenamiento\n",
        "epocas = 15\n",
        "# Iteramos por cada época\n",
        "for epoca in range(epocas):\n",
        "    # Entrenamos la red neuronal por una época\n",
        "    train_perdida = epoca_train(\n",
        "        modelo, train_loader, optimizador, func_perdida, dispositivo)\n",
        "    # Calculamos la exactitud para los datos de entrenamiento\n",
        "    train_acc = epoca_test(modelo, train_loader, dispositivo)\n",
        "    train_accs.append(train_acc)\n",
        "    # Calculamos la exactitud para los datos de test\n",
        "    test_acc = epoca_test(modelo, test_loader, dispositivo)\n",
        "    test_accs.append(test_acc)\n",
        "    # Sacamos los resultados por pantalla\n",
        "    print(f'Época {epoca+1}/{epocas},\\\n",
        "    pérdida={train_perdida:.4f},\\\n",
        "    exactitud_train={train_acc:.2f}%,\\\n",
        "    exactitud_test={test_acc:.2f}%')\n",
        "# Se ha completado el entrenamiento de la red neuronal\n",
        "print('Fin del entrenamiento.')\n"
      ]
    },
    {
      "cell_type": "markdown",
      "metadata": {},
      "source": [
        "Creación de una gráfica que muestre el progreso del rendimiento del modelo"
      ]
    },
    {
      "cell_type": "code",
      "execution_count": 7,
      "metadata": {
        "colab": {
          "base_uri": "https://localhost:8080/",
          "height": 451
        },
        "id": "H601UdbUso2d",
        "outputId": "be247f95-227b-4edf-f1a9-16bfd341bb84"
      },
      "outputs": [
        {
          "data": {
            "image/png": "[encoded data removed]",
            "text/plain": [
              "<Figure size 640x480 with 1 Axes>"
            ]
          },
          "metadata": {},
          "output_type": "display_data"
        }
      ],
      "source": [
        "plt.plot(train_accs)\n",
        "plt.plot(test_accs)\n",
        "plt.xlabel('Época')         # Eje X - Época\n",
        "plt.ylabel('Exactitud (%)') # Eje Y - Exactitud\n",
        "plt.legend(['Entrenamiento', 'Test'])\n",
        "plt.show()"
      ]
    },
    {
      "cell_type": "markdown",
      "metadata": {},
      "source": [
        "Guardado del modelo"
      ]
    },
    {
      "cell_type": "code",
      "execution_count": 8,
      "metadata": {
        "id": "ORFLmiomq4S8"
      },
      "outputs": [],
      "source": [
        "torch.save(modelo.state_dict(), 'modelo_cap_5.pt')"
      ]
    },
    {
      "cell_type": "markdown",
      "metadata": {},
      "source": [
        "Comprobación de la exactitud del modelo guardado sobre el conjunto de test"
      ]
    },
    {
      "cell_type": "code",
      "execution_count": 9,
      "metadata": {
        "colab": {
          "base_uri": "https://localhost:8080/"
        },
        "id": "bEmph44__IAy",
        "outputId": "d55ea17e-3808-4018-d779-3804f87505d9"
      },
      "outputs": [
        {
          "name": "stdout",
          "output_type": "stream",
          "text": [
            "Exactitud de test = 98.99%\n"
          ]
        }
      ],
      "source": [
        "modelo = CNN()\n",
        "modelo.load_state_dict(torch.load('modelo_cap_5.pt'))\n",
        "modelo.to(dispositivo)\n",
        "exactitud = epoca_test(modelo, test_loader, dispositivo)\n",
        "print(f'Exactitud de test = {exactitud:.2f}%')"
      ]
    }
  ],
  "metadata": {
    "accelerator": "GPU",
    "colab": {
      "gpuType": "T4",
      "provenance": []
    },
    "gpuClass": "standard",
    "kernelspec": {
      "display_name": "Python 3",
      "name": "python3"
    },
    "language_info": {
      "codemirror_mode": {
        "name": "ipython",
        "version": 3
      },
      "file_extension": ".py",
      "mimetype": "text/x-python",
      "name": "python",
      "nbconvert_exporter": "python",
      "pygments_lexer": "ipython3",
      "version": "3.11.2"
    }
  },
  "nbformat": 4,
  "nbformat_minor": 0
}
