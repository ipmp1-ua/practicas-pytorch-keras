{
  "cells": [
    {
      "cell_type": "markdown",
      "metadata": {
        "id": "7IqkrXGUuDer"
      },
      "source": [
        "# **Capítulo 5: Redes neuronales convolucionales**\n",
        "\n",
        "## Clasificación de dígitos manuscritos usando la base de datos MNIST"
      ]
    },
    {
      "cell_type": "markdown",
      "metadata": {
        "id": "fMTkqCJ1Rw3o"
      },
      "source": [
        "Carga y preprocesado de datos"
      ]
    },
    {
      "cell_type": "code",
      "execution_count": null,
      "metadata": {
        "colab": {
          "base_uri": "https://localhost:8080/"
        },
        "id": "ClhrMsvdRw3p",
        "outputId": "a841cfbe-9f66-4001-d2d1-bde1909f97af"
      },
      "outputs": [
        {
          "name": "stdout",
          "output_type": "stream",
          "text": [
            "Downloading data from https://storage.googleapis.com/tensorflow/tf-keras-datasets/mnist.npz\n",
            "11490434/11490434 [==============================] - 2s 0us/step\n"
          ]
        }
      ],
      "source": [
        "import numpy as np\n",
        "from tensorflow.keras.datasets import mnist\n",
        "\n",
        "# Cargamos los datos\n",
        "(X_train, Y_train), (X_test, Y_test) = mnist.load_data()\n",
        "\n",
        "# Normalizamos las imágenes\n",
        "X_train = X_train.astype('float32') / 255\n",
        "X_test = X_test.astype('float32') / 255\n",
        "\n",
        "# Redimensionamos de las imágenes para que\n",
        "# tengan la forma (n_imágenes, 28, 28, 1)\n",
        "X_train = np.expand_dims(X_train, axis=-1)\n",
        "X_test = np.expand_dims(X_test, axis=-1)"
      ]
    },
    {
      "cell_type": "markdown",
      "metadata": {
        "id": "otCHvctkRw3p"
      },
      "source": [
        "Visualización del aspecto de los datos"
      ]
    },
    {
      "cell_type": "code",
      "execution_count": null,
      "metadata": {
        "colab": {
          "base_uri": "https://localhost:8080/",
          "height": 465
        },
        "id": "Vsm6qJJpkR4U",
        "outputId": "ce88f666-4d49-4d6f-bebe-7fa2d256f893"
      },
      "outputs": [
        {
          "name": "stdout",
          "output_type": "stream",
          "text": [
            "Tamaño del conjunto de entrenamiento: 60000\n",
            "Tamaño del conjunto de test: 10000\n",
            "Tamaño de las imágenes: (28, 28, 1)\n"
          ]
        },
        {
          "data": {
            "image/png": "[encoded data removed]",
            "text/plain": [
              "<Figure size 1000x1000 with 2 Axes>"
            ]
          },
          "metadata": {},
          "output_type": "display_data"
        }
      ],
      "source": [
        "import matplotlib.pyplot as plt\n",
        "\n",
        "# Dimensiones de los conjuntos de datos\n",
        "print(f'Tamaño del conjunto de entrenamiento: {len(X_train)}')\n",
        "print(f'Tamaño del conjunto de test: {len(X_test)}')\n",
        "\n",
        "# Obtenemos dos imágenes de entrenamiento\n",
        "imagenes, etiquetas = X_train[:2], Y_train[:2]\n",
        "print(f'Tamaño de las imágenes: {imagenes.shape[1:]}')\n",
        "\n",
        "# Visualizamos las imágenes y etiquetas de un batch de entrenamiento\n",
        "fig, axs = plt.subplots(1, 2, figsize=(10, 10))\n",
        "for i in range(2):\n",
        "    axs[i].imshow(np.squeeze(imagenes[i]), cmap='gray')\n",
        "    axs[i].set_title(f'Etiqueta: {etiquetas[i]}')\n",
        "    axs[i].axis('off')\n",
        "plt.show()"
      ]
    },
    {
      "cell_type": "markdown",
      "metadata": {
        "id": "Fi7pptvSRw3q"
      },
      "source": [
        "Implementación de la CNN a usar"
      ]
    },
    {
      "cell_type": "code",
      "execution_count": null,
      "metadata": {
        "colab": {
          "base_uri": "https://localhost:8080/"
        },
        "id": "2AB7AXlukdx_",
        "outputId": "6265a17c-b4ca-480b-a2b7-a1df34273ae6"
      },
      "outputs": [
        {
          "name": "stdout",
          "output_type": "stream",
          "text": [
            "Model: \"sequential\"\n",
            "_________________________________________________________________\n",
            " Layer (type)                Output Shape              Param #   \n",
            "=================================================================\n",
            " conv2d (Conv2D)             (None, 28, 28, 6)         156       \n",
            "                                                                 \n",
            " max_pooling2d (MaxPooling2D  (None, 14, 14, 6)        0         \n",
            " )                                                               \n",
            "                                                                 \n",
            " conv2d_1 (Conv2D)           (None, 14, 14, 16)        2416      \n",
            "                                                                 \n",
            " max_pooling2d_1 (MaxPooling  (None, 7, 7, 16)         0         \n",
            " 2D)                                                             \n",
            "                                                                 \n",
            " flatten (Flatten)           (None, 784)               0         \n",
            "                                                                 \n",
            " dense (Dense)               (None, 120)               94200     \n",
            "                                                                 \n",
            " dense_1 (Dense)             (None, 84)                10164     \n",
            "                                                                 \n",
            " dense_2 (Dense)             (None, 10)                850       \n",
            "                                                                 \n",
            "=================================================================\n",
            "Total params: 107,786\n",
            "Trainable params: 107,786\n",
            "Non-trainable params: 0\n",
            "_________________________________________________________________\n"
          ]
        }
      ],
      "source": [
        "from tensorflow.keras.models import Sequential\n",
        "from tensorflow.keras.layers import Conv2D, MaxPooling2D, Flatten, Dense\n",
        "\n",
        "# Definimos el modelo\n",
        "modelo = Sequential()\n",
        "# 1) Bloque extractor de características\n",
        "modelo.add(Conv2D(filters=6, kernel_size=5, padding='same',\\\n",
        "                  activation='relu', input_shape=(28, 28, 1)))\n",
        "modelo.add(MaxPooling2D(pool_size=2))\n",
        "modelo.add(Conv2D(filters=16, kernel_size=5, padding='same',\\\n",
        "                  activation='relu'))\n",
        "modelo.add(MaxPooling2D(pool_size=2))\n",
        "# 2) Bloque clasificador de características\n",
        "modelo.add(Flatten())\n",
        "modelo.add(Dense(units=120, activation='relu'))\n",
        "modelo.add(Dense(units=84, activation='relu'))\n",
        "modelo.add(Dense(units=10, activation='softmax'))\n",
        "\n",
        "# Resumen del modelo\n",
        "modelo.summary()"
      ]
    },
    {
      "cell_type": "markdown",
      "metadata": {
        "id": "Xu-B6ochRw3r"
      },
      "source": [
        "Compilación de la CNN"
      ]
    },
    {
      "cell_type": "code",
      "execution_count": null,
      "metadata": {
        "id": "xW07e-SzRw3r"
      },
      "outputs": [],
      "source": [
        "modelo.compile(optimizer='adam',\\\n",
        "               loss='sparse_categorical_crossentropy',\\\n",
        "               metrics=['accuracy'])"
      ]
    },
    {
      "cell_type": "markdown",
      "metadata": {
        "id": "wi9go7A2Rw3s"
      },
      "source": [
        "Entrenamiento y test de la CNN con el conjunto de datos MNIST"
      ]
    },
    {
      "cell_type": "code",
      "execution_count": null,
      "metadata": {
        "colab": {
          "base_uri": "https://localhost:8080/"
        },
        "id": "sSw0DqhHnpqL",
        "outputId": "455ef3ab-aee5-4447-eeaf-706842688e0a"
      },
      "outputs": [
        {
          "name": "stdout",
          "output_type": "stream",
          "text": [
            "Epoch 1/15\n",
            "938/938 - 16s - loss: 0.2213 - accuracy: 0.9323 - val_loss: 0.0717 - val_accuracy: 0.9755 - 16s/epoch - 17ms/step\n",
            "Epoch 2/15\n",
            "938/938 - 4s - loss: 0.0642 - accuracy: 0.9802 - val_loss: 0.0477 - val_accuracy: 0.9843 - 4s/epoch - 4ms/step\n",
            "Epoch 3/15\n",
            "938/938 - 4s - loss: 0.0460 - accuracy: 0.9857 - val_loss: 0.0397 - val_accuracy: 0.9871 - 4s/epoch - 4ms/step\n",
            "Epoch 4/15\n",
            "938/938 - 6s - loss: 0.0366 - accuracy: 0.9885 - val_loss: 0.0348 - val_accuracy: 0.9888 - 6s/epoch - 7ms/step\n",
            "Epoch 5/15\n",
            "938/938 - 6s - loss: 0.0281 - accuracy: 0.9912 - val_loss: 0.0433 - val_accuracy: 0.9863 - 6s/epoch - 7ms/step\n",
            "Epoch 6/15\n",
            "938/938 - 5s - loss: 0.0236 - accuracy: 0.9925 - val_loss: 0.0404 - val_accuracy: 0.9865 - 5s/epoch - 6ms/step\n",
            "Epoch 7/15\n",
            "938/938 - 6s - loss: 0.0194 - accuracy: 0.9936 - val_loss: 0.0354 - val_accuracy: 0.9880 - 6s/epoch - 6ms/step\n",
            "Epoch 8/15\n",
            "938/938 - 4s - loss: 0.0169 - accuracy: 0.9943 - val_loss: 0.0367 - val_accuracy: 0.9893 - 4s/epoch - 4ms/step\n",
            "Epoch 9/15\n",
            "938/938 - 4s - loss: 0.0148 - accuracy: 0.9953 - val_loss: 0.0462 - val_accuracy: 0.9871 - 4s/epoch - 4ms/step\n",
            "Epoch 10/15\n",
            "938/938 - 4s - loss: 0.0137 - accuracy: 0.9954 - val_loss: 0.0361 - val_accuracy: 0.9892 - 4s/epoch - 4ms/step\n",
            "Epoch 11/15\n",
            "938/938 - 4s - loss: 0.0112 - accuracy: 0.9964 - val_loss: 0.0492 - val_accuracy: 0.9876 - 4s/epoch - 4ms/step\n",
            "Epoch 12/15\n",
            "938/938 - 5s - loss: 0.0108 - accuracy: 0.9964 - val_loss: 0.0346 - val_accuracy: 0.9907 - 5s/epoch - 5ms/step\n",
            "Epoch 13/15\n",
            "938/938 - 4s - loss: 0.0085 - accuracy: 0.9973 - val_loss: 0.0352 - val_accuracy: 0.9907 - 4s/epoch - 4ms/step\n",
            "Epoch 14/15\n",
            "938/938 - 4s - loss: 0.0109 - accuracy: 0.9965 - val_loss: 0.0359 - val_accuracy: 0.9902 - 4s/epoch - 4ms/step\n",
            "Epoch 15/15\n",
            "938/938 - 4s - loss: 0.0072 - accuracy: 0.9975 - val_loss: 0.0564 - val_accuracy: 0.9859 - 4s/epoch - 5ms/step\n"
          ]
        }
      ],
      "source": [
        "historia = modelo.fit(X_train, Y_train,\\\n",
        "           validation_data=(X_test, Y_test),\\\n",
        "           epochs=15, batch_size=64, verbose=2)"
      ]
    },
    {
      "cell_type": "markdown",
      "metadata": {
        "id": "I6cL9tlDRw3s"
      },
      "source": [
        "Creación de una gráfica que muestre el progreso del rendimiento del modelo"
      ]
    },
    {
      "cell_type": "code",
      "execution_count": null,
      "metadata": {
        "colab": {
          "base_uri": "https://localhost:8080/",
          "height": 451
        },
        "id": "H601UdbUso2d",
        "outputId": "be247f95-227b-4edf-f1a9-16bfd341bb84"
      },
      "outputs": [
        {
          "data": {
            "image/png": "[encoded data removed]",
            "text/plain": [
              "<Figure size 640x480 with 1 Axes>"
            ]
          },
          "metadata": {},
          "output_type": "display_data"
        }
      ],
      "source": [
        "plt.plot(historia.history['accuracy'])\n",
        "plt.plot(historia.history['val_accuracy'])\n",
        "plt.xlabel('Época')         # Eje X - Época\n",
        "plt.ylabel('Exactitud (%)') # Eje Y - Exactitud\n",
        "plt.legend(['Entrenamiento', 'Test'])\n",
        "plt.show()"
      ]
    },
    {
      "cell_type": "markdown",
      "metadata": {
        "id": "vnCko8pKRw3s"
      },
      "source": [
        "Guardado del modelo"
      ]
    },
    {
      "cell_type": "code",
      "execution_count": null,
      "metadata": {
        "id": "ORFLmiomq4S8"
      },
      "outputs": [],
      "source": [
        "modelo.save('modelo_cap_5.h5')"
      ]
    },
    {
      "cell_type": "markdown",
      "metadata": {
        "id": "rtri970ZRw3s"
      },
      "source": [
        "Comprobación de la exactitud del modelo guardado sobre el conjunto de test"
      ]
    },
    {
      "cell_type": "code",
      "execution_count": 3,
      "metadata": {
        "colab": {
          "base_uri": "https://localhost:8080/"
        },
        "id": "_-Z0Dwt-Rw3s",
        "outputId": "d73b8148-a2dd-47f9-91e9-3f47ce33f826"
      },
      "outputs": [
        {
          "name": "stdout",
          "output_type": "stream",
          "text": [
            "loss: 0.0564\n",
            "accuracy: 0.9859\n"
          ]
        }
      ],
      "source": [
        "from tensorflow.keras.models import load_model\n",
        "\n",
        "modelo = load_model('modelo_cap_5.h5')\n",
        "metricas = modelo.evaluate(X_test, Y_test, verbose=0, return_dict=True)\n",
        "for k, v in metricas.items():\n",
        "    print(f'{k}: {v:.4f}')"
      ]
    }
  ],
  "metadata": {
    "accelerator": "GPU",
    "colab": {
      "gpuType": "T4",
      "provenance": []
    },
    "kernelspec": {
      "display_name": "Python 3",
      "name": "python3"
    },
    "language_info": {
      "codemirror_mode": {
        "name": "ipython",
        "version": 3
      },
      "file_extension": ".py",
      "mimetype": "text/x-python",
      "name": "python",
      "nbconvert_exporter": "python",
      "pygments_lexer": "ipython3",
      "version": "3.11.2"
    }
  },
  "nbformat": 4,
  "nbformat_minor": 0
}
